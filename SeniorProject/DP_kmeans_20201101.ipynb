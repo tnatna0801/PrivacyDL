{
 "cells": [
  {
   "cell_type": "markdown",
   "metadata": {},
   "source": [
    "### 0. 사용하는 라이브러리 & 변수 정의"
   ]
  },
  {
   "cell_type": "code",
   "execution_count": 3,
   "metadata": {},
   "outputs": [
    {
     "ename": "ModuleNotFoundError",
     "evalue": "No module named 'pandas'",
     "output_type": "error",
     "traceback": [
      "\u001b[1;31m---------------------------------------------------------------------------\u001b[0m",
      "\u001b[1;31mModuleNotFoundError\u001b[0m                       Traceback (most recent call last)",
      "\u001b[1;32m<ipython-input-3-583ea7aaf0ad>\u001b[0m in \u001b[0;36m<module>\u001b[1;34m\u001b[0m\n\u001b[1;32m----> 1\u001b[1;33m \u001b[1;32mimport\u001b[0m \u001b[0mpandas\u001b[0m \u001b[1;32mas\u001b[0m \u001b[0mpd\u001b[0m\u001b[1;33m\u001b[0m\u001b[1;33m\u001b[0m\u001b[0m\n\u001b[0m\u001b[0;32m      2\u001b[0m \u001b[1;32mimport\u001b[0m \u001b[0mnumpy\u001b[0m \u001b[1;32mas\u001b[0m \u001b[0mnp\u001b[0m\u001b[1;33m\u001b[0m\u001b[1;33m\u001b[0m\u001b[0m\n\u001b[0;32m      3\u001b[0m \u001b[1;32mimport\u001b[0m \u001b[0mseaborn\u001b[0m \u001b[1;32mas\u001b[0m \u001b[0msns\u001b[0m\u001b[1;33m\u001b[0m\u001b[1;33m\u001b[0m\u001b[0m\n\u001b[0;32m      4\u001b[0m \u001b[1;33m\u001b[0m\u001b[0m\n\u001b[0;32m      5\u001b[0m \u001b[1;32mfrom\u001b[0m \u001b[0mcollections\u001b[0m \u001b[1;32mimport\u001b[0m \u001b[0mCounter\u001b[0m\u001b[1;33m\u001b[0m\u001b[1;33m\u001b[0m\u001b[0m\n",
      "\u001b[1;31mModuleNotFoundError\u001b[0m: No module named 'pandas'"
     ]
    }
   ],
   "source": [
    "import pandas as pd\n",
    "import numpy as np\n",
    "import seaborn as sns\n",
    "\n",
    "from collections import Counter\n",
    "import operator\n",
    "\n",
    "import plotly\n",
    "import plotly.graph_objs as go\n",
    "\n",
    "from sklearn.cluster import KMeans as REAL_Kmeans\n",
    "from sklearn.model_selection import train_test_split\n",
    "from matplotlib import pyplot as plt\n",
    "\n",
    "from diffprivlib.models.k_means import KMeans as DP_KMeans"
   ]
  },
  {
   "cell_type": "code",
   "execution_count": 2,
   "metadata": {},
   "outputs": [],
   "source": [
    "# 사용할 년월 입력\n",
    "year = 201612\n",
    "epsilon = 0.5"
   ]
  },
  {
   "cell_type": "markdown",
   "metadata": {},
   "source": [
    "### 1. 사용할 데이터 호출 & 정의"
   ]
  },
  {
   "cell_type": "code",
   "execution_count": 3,
   "metadata": {},
   "outputs": [
    {
     "data": {
      "text/html": [
       "<div>\n",
       "<style scoped>\n",
       "    .dataframe tbody tr th:only-of-type {\n",
       "        vertical-align: middle;\n",
       "    }\n",
       "\n",
       "    .dataframe tbody tr th {\n",
       "        vertical-align: top;\n",
       "    }\n",
       "\n",
       "    .dataframe thead th {\n",
       "        text-align: right;\n",
       "    }\n",
       "</style>\n",
       "<table border=\"1\" class=\"dataframe\">\n",
       "  <thead>\n",
       "    <tr style=\"text-align: right;\">\n",
       "      <th></th>\n",
       "      <th>JOIN_KEY</th>\n",
       "      <th>BTH_YR</th>\n",
       "      <th>GENDER</th>\n",
       "    </tr>\n",
       "  </thead>\n",
       "  <tbody>\n",
       "    <tr>\n",
       "      <th>0</th>\n",
       "      <td>0000076992B1319652A66CA2167960F06128ADB8034BA9...</td>\n",
       "      <td>1966</td>\n",
       "      <td>1</td>\n",
       "    </tr>\n",
       "    <tr>\n",
       "      <th>1</th>\n",
       "      <td>00000A7F7EAB7A89935C2A0D0E237333F6BD25F39A25CA...</td>\n",
       "      <td>1967</td>\n",
       "      <td>2</td>\n",
       "    </tr>\n",
       "    <tr>\n",
       "      <th>2</th>\n",
       "      <td>000021C75553D953D4A453BA3960FC631AEBFA3A1E5B91...</td>\n",
       "      <td>1979</td>\n",
       "      <td>2</td>\n",
       "    </tr>\n",
       "    <tr>\n",
       "      <th>3</th>\n",
       "      <td>000022518DBDB379709E53AD8BB372FF2CB6255DA17A06...</td>\n",
       "      <td>1961</td>\n",
       "      <td>1</td>\n",
       "    </tr>\n",
       "    <tr>\n",
       "      <th>4</th>\n",
       "      <td>00003C32AB8920D905937368511AAA4785B0050775E8ED...</td>\n",
       "      <td>1987</td>\n",
       "      <td>1</td>\n",
       "    </tr>\n",
       "  </tbody>\n",
       "</table>\n",
       "</div>"
      ],
      "text/plain": [
       "                                            JOIN_KEY  BTH_YR  GENDER\n",
       "0  0000076992B1319652A66CA2167960F06128ADB8034BA9...    1966       1\n",
       "1  00000A7F7EAB7A89935C2A0D0E237333F6BD25F39A25CA...    1967       2\n",
       "2  000021C75553D953D4A453BA3960FC631AEBFA3A1E5B91...    1979       2\n",
       "3  000022518DBDB379709E53AD8BB372FF2CB6255DA17A06...    1961       1\n",
       "4  00003C32AB8920D905937368511AAA4785B0050775E8ED...    1987       1"
      ]
     },
     "execution_count": 3,
     "metadata": {},
     "output_type": "execute_result"
    }
   ],
   "source": [
    "# 차주정보\n",
    "df1=pd.read_csv('ID.csv',engine='python', sep=',')\n",
    "df1.head()"
   ]
  },
  {
   "cell_type": "code",
   "execution_count": 4,
   "metadata": {},
   "outputs": [
    {
     "data": {
      "text/html": [
       "<div>\n",
       "<style scoped>\n",
       "    .dataframe tbody tr th:only-of-type {\n",
       "        vertical-align: middle;\n",
       "    }\n",
       "\n",
       "    .dataframe tbody tr th {\n",
       "        vertical-align: top;\n",
       "    }\n",
       "\n",
       "    .dataframe thead th {\n",
       "        text-align: right;\n",
       "    }\n",
       "</style>\n",
       "<table border=\"1\" class=\"dataframe\">\n",
       "  <thead>\n",
       "    <tr style=\"text-align: right;\">\n",
       "      <th></th>\n",
       "      <th>YM</th>\n",
       "      <th>JOIN_KEY</th>\n",
       "      <th>SCTR_CD</th>\n",
       "      <th>COM_KEY</th>\n",
       "      <th>LN_CD_1</th>\n",
       "      <th>LN_CD_2</th>\n",
       "      <th>LN_YM</th>\n",
       "      <th>LN_AMT</th>\n",
       "    </tr>\n",
       "  </thead>\n",
       "  <tbody>\n",
       "    <tr>\n",
       "      <th>0</th>\n",
       "      <td>201612</td>\n",
       "      <td>0000076992B1319652A66CA2167960F06128ADB8034BA9...</td>\n",
       "      <td>3</td>\n",
       "      <td>65CAEC43E44671C342FB765AB8FB8964D93615827709B9...</td>\n",
       "      <td>31</td>\n",
       "      <td>230</td>\n",
       "      <td>201512</td>\n",
       "      <td>50000</td>\n",
       "    </tr>\n",
       "    <tr>\n",
       "      <th>1</th>\n",
       "      <td>201701</td>\n",
       "      <td>0000076992B1319652A66CA2167960F06128ADB8034BA9...</td>\n",
       "      <td>3</td>\n",
       "      <td>65CAEC43E44671C342FB765AB8FB8964D93615827709B9...</td>\n",
       "      <td>31</td>\n",
       "      <td>230</td>\n",
       "      <td>201512</td>\n",
       "      <td>50000</td>\n",
       "    </tr>\n",
       "    <tr>\n",
       "      <th>2</th>\n",
       "      <td>201702</td>\n",
       "      <td>0000076992B1319652A66CA2167960F06128ADB8034BA9...</td>\n",
       "      <td>3</td>\n",
       "      <td>65CAEC43E44671C342FB765AB8FB8964D93615827709B9...</td>\n",
       "      <td>31</td>\n",
       "      <td>230</td>\n",
       "      <td>201512</td>\n",
       "      <td>50000</td>\n",
       "    </tr>\n",
       "    <tr>\n",
       "      <th>3</th>\n",
       "      <td>201703</td>\n",
       "      <td>0000076992B1319652A66CA2167960F06128ADB8034BA9...</td>\n",
       "      <td>3</td>\n",
       "      <td>65CAEC43E44671C342FB765AB8FB8964D93615827709B9...</td>\n",
       "      <td>31</td>\n",
       "      <td>200</td>\n",
       "      <td>201703</td>\n",
       "      <td>2000</td>\n",
       "    </tr>\n",
       "    <tr>\n",
       "      <th>4</th>\n",
       "      <td>201703</td>\n",
       "      <td>0000076992B1319652A66CA2167960F06128ADB8034BA9...</td>\n",
       "      <td>3</td>\n",
       "      <td>65CAEC43E44671C342FB765AB8FB8964D93615827709B9...</td>\n",
       "      <td>31</td>\n",
       "      <td>230</td>\n",
       "      <td>201512</td>\n",
       "      <td>50000</td>\n",
       "    </tr>\n",
       "  </tbody>\n",
       "</table>\n",
       "</div>"
      ],
      "text/plain": [
       "       YM                                           JOIN_KEY  SCTR_CD  \\\n",
       "0  201612  0000076992B1319652A66CA2167960F06128ADB8034BA9...        3   \n",
       "1  201701  0000076992B1319652A66CA2167960F06128ADB8034BA9...        3   \n",
       "2  201702  0000076992B1319652A66CA2167960F06128ADB8034BA9...        3   \n",
       "3  201703  0000076992B1319652A66CA2167960F06128ADB8034BA9...        3   \n",
       "4  201703  0000076992B1319652A66CA2167960F06128ADB8034BA9...        3   \n",
       "\n",
       "                                             COM_KEY  LN_CD_1  LN_CD_2  \\\n",
       "0  65CAEC43E44671C342FB765AB8FB8964D93615827709B9...       31      230   \n",
       "1  65CAEC43E44671C342FB765AB8FB8964D93615827709B9...       31      230   \n",
       "2  65CAEC43E44671C342FB765AB8FB8964D93615827709B9...       31      230   \n",
       "3  65CAEC43E44671C342FB765AB8FB8964D93615827709B9...       31      200   \n",
       "4  65CAEC43E44671C342FB765AB8FB8964D93615827709B9...       31      230   \n",
       "\n",
       "    LN_YM  LN_AMT  \n",
       "0  201512   50000  \n",
       "1  201512   50000  \n",
       "2  201512   50000  \n",
       "3  201703    2000  \n",
       "4  201512   50000  "
      ]
     },
     "execution_count": 4,
     "metadata": {},
     "output_type": "execute_result"
    }
   ],
   "source": [
    "# 대출정보\n",
    "df2=pd.read_csv('LN.csv',engine='python', sep=',')\n",
    "df2.head()"
   ]
  },
  {
   "cell_type": "code",
   "execution_count": 5,
   "metadata": {},
   "outputs": [
    {
     "data": {
      "text/html": [
       "<div>\n",
       "<style scoped>\n",
       "    .dataframe tbody tr th:only-of-type {\n",
       "        vertical-align: middle;\n",
       "    }\n",
       "\n",
       "    .dataframe tbody tr th {\n",
       "        vertical-align: top;\n",
       "    }\n",
       "\n",
       "    .dataframe thead th {\n",
       "        text-align: right;\n",
       "    }\n",
       "</style>\n",
       "<table border=\"1\" class=\"dataframe\">\n",
       "  <thead>\n",
       "    <tr style=\"text-align: right;\">\n",
       "      <th></th>\n",
       "      <th>YM</th>\n",
       "      <th>JOIN_KEY</th>\n",
       "      <th>BTH_YR</th>\n",
       "      <th>GENDER</th>\n",
       "      <th>SCTR_CD</th>\n",
       "      <th>COM_KEY</th>\n",
       "      <th>LN_CD_1</th>\n",
       "      <th>LN_CD_2</th>\n",
       "      <th>LN_YM</th>\n",
       "      <th>LN_AMT</th>\n",
       "    </tr>\n",
       "  </thead>\n",
       "  <tbody>\n",
       "    <tr>\n",
       "      <th>0</th>\n",
       "      <td>201612</td>\n",
       "      <td>0000076992B1319652A66CA2167960F06128ADB8034BA9...</td>\n",
       "      <td>1966</td>\n",
       "      <td>1</td>\n",
       "      <td>3</td>\n",
       "      <td>65CAEC43E44671C342FB765AB8FB8964D93615827709B9...</td>\n",
       "      <td>31</td>\n",
       "      <td>230</td>\n",
       "      <td>201512</td>\n",
       "      <td>50000</td>\n",
       "    </tr>\n",
       "    <tr>\n",
       "      <th>1</th>\n",
       "      <td>201701</td>\n",
       "      <td>0000076992B1319652A66CA2167960F06128ADB8034BA9...</td>\n",
       "      <td>1966</td>\n",
       "      <td>1</td>\n",
       "      <td>3</td>\n",
       "      <td>65CAEC43E44671C342FB765AB8FB8964D93615827709B9...</td>\n",
       "      <td>31</td>\n",
       "      <td>230</td>\n",
       "      <td>201512</td>\n",
       "      <td>50000</td>\n",
       "    </tr>\n",
       "    <tr>\n",
       "      <th>2</th>\n",
       "      <td>201702</td>\n",
       "      <td>0000076992B1319652A66CA2167960F06128ADB8034BA9...</td>\n",
       "      <td>1966</td>\n",
       "      <td>1</td>\n",
       "      <td>3</td>\n",
       "      <td>65CAEC43E44671C342FB765AB8FB8964D93615827709B9...</td>\n",
       "      <td>31</td>\n",
       "      <td>230</td>\n",
       "      <td>201512</td>\n",
       "      <td>50000</td>\n",
       "    </tr>\n",
       "    <tr>\n",
       "      <th>3</th>\n",
       "      <td>201703</td>\n",
       "      <td>0000076992B1319652A66CA2167960F06128ADB8034BA9...</td>\n",
       "      <td>1966</td>\n",
       "      <td>1</td>\n",
       "      <td>3</td>\n",
       "      <td>65CAEC43E44671C342FB765AB8FB8964D93615827709B9...</td>\n",
       "      <td>31</td>\n",
       "      <td>200</td>\n",
       "      <td>201703</td>\n",
       "      <td>2000</td>\n",
       "    </tr>\n",
       "    <tr>\n",
       "      <th>4</th>\n",
       "      <td>201703</td>\n",
       "      <td>0000076992B1319652A66CA2167960F06128ADB8034BA9...</td>\n",
       "      <td>1966</td>\n",
       "      <td>1</td>\n",
       "      <td>3</td>\n",
       "      <td>65CAEC43E44671C342FB765AB8FB8964D93615827709B9...</td>\n",
       "      <td>31</td>\n",
       "      <td>230</td>\n",
       "      <td>201512</td>\n",
       "      <td>50000</td>\n",
       "    </tr>\n",
       "  </tbody>\n",
       "</table>\n",
       "</div>"
      ],
      "text/plain": [
       "       YM                                           JOIN_KEY  BTH_YR  GENDER  \\\n",
       "0  201612  0000076992B1319652A66CA2167960F06128ADB8034BA9...    1966       1   \n",
       "1  201701  0000076992B1319652A66CA2167960F06128ADB8034BA9...    1966       1   \n",
       "2  201702  0000076992B1319652A66CA2167960F06128ADB8034BA9...    1966       1   \n",
       "3  201703  0000076992B1319652A66CA2167960F06128ADB8034BA9...    1966       1   \n",
       "4  201703  0000076992B1319652A66CA2167960F06128ADB8034BA9...    1966       1   \n",
       "\n",
       "   SCTR_CD                                            COM_KEY  LN_CD_1  \\\n",
       "0        3  65CAEC43E44671C342FB765AB8FB8964D93615827709B9...       31   \n",
       "1        3  65CAEC43E44671C342FB765AB8FB8964D93615827709B9...       31   \n",
       "2        3  65CAEC43E44671C342FB765AB8FB8964D93615827709B9...       31   \n",
       "3        3  65CAEC43E44671C342FB765AB8FB8964D93615827709B9...       31   \n",
       "4        3  65CAEC43E44671C342FB765AB8FB8964D93615827709B9...       31   \n",
       "\n",
       "   LN_CD_2   LN_YM  LN_AMT  \n",
       "0      230  201512   50000  \n",
       "1      230  201512   50000  \n",
       "2      230  201512   50000  \n",
       "3      200  201703    2000  \n",
       "4      230  201512   50000  "
      ]
     },
     "execution_count": 5,
     "metadata": {},
     "output_type": "execute_result"
    }
   ],
   "source": [
    "# 대출정보와 차주정보 결합\n",
    "new_df = pd.merge(df1, df2, left_on='JOIN_KEY', right_on='JOIN_KEY', how='inner')\n",
    "new_df = new_df[['YM','JOIN_KEY','BTH_YR','GENDER','SCTR_CD','COM_KEY','LN_CD_1','LN_CD_2','LN_YM','LN_AMT']]\n",
    "new_df.head()"
   ]
  },
  {
   "cell_type": "markdown",
   "metadata": {},
   "source": [
    "### 2. 사용할 데이터 정제"
   ]
  },
  {
   "cell_type": "markdown",
   "metadata": {},
   "source": [
    "- YM과 JOIN_KEY 를 살린 데이터"
   ]
  },
  {
   "cell_type": "code",
   "execution_count": 6,
   "metadata": {},
   "outputs": [
    {
     "name": "stderr",
     "output_type": "stream",
     "text": [
      "C:\\Users\\csh\\Anaconda3\\envs\\tensorflow\\lib\\site-packages\\pandas\\core\\frame.py:4167: SettingWithCopyWarning: \n",
      "A value is trying to be set on a copy of a slice from a DataFrame\n",
      "\n",
      "See the caveats in the documentation: https://pandas.pydata.org/pandas-docs/stable/user_guide/indexing.html#returning-a-view-versus-a-copy\n",
      "  errors=errors,\n"
     ]
    },
    {
     "data": {
      "text/html": [
       "<div>\n",
       "<style scoped>\n",
       "    .dataframe tbody tr th:only-of-type {\n",
       "        vertical-align: middle;\n",
       "    }\n",
       "\n",
       "    .dataframe tbody tr th {\n",
       "        vertical-align: top;\n",
       "    }\n",
       "\n",
       "    .dataframe thead th {\n",
       "        text-align: right;\n",
       "    }\n",
       "</style>\n",
       "<table border=\"1\" class=\"dataframe\">\n",
       "  <thead>\n",
       "    <tr style=\"text-align: right;\">\n",
       "      <th></th>\n",
       "      <th>YM</th>\n",
       "      <th>JOIN_KEY</th>\n",
       "      <th>BTH_YR</th>\n",
       "      <th>GENDER</th>\n",
       "      <th>SCTR_CD</th>\n",
       "      <th>LN_AMT</th>\n",
       "      <th>LN_CD_2</th>\n",
       "    </tr>\n",
       "  </thead>\n",
       "  <tbody>\n",
       "    <tr>\n",
       "      <th>0</th>\n",
       "      <td>201612</td>\n",
       "      <td>0000076992B1319652A66CA2167960F06128ADB8034BA9...</td>\n",
       "      <td>1966</td>\n",
       "      <td>1</td>\n",
       "      <td>3</td>\n",
       "      <td>50000</td>\n",
       "      <td>230</td>\n",
       "    </tr>\n",
       "    <tr>\n",
       "      <th>1</th>\n",
       "      <td>201612</td>\n",
       "      <td>00000A7F7EAB7A89935C2A0D0E237333F6BD25F39A25CA...</td>\n",
       "      <td>1967</td>\n",
       "      <td>2</td>\n",
       "      <td>1</td>\n",
       "      <td>3500</td>\n",
       "      <td>200</td>\n",
       "    </tr>\n",
       "    <tr>\n",
       "      <th>2</th>\n",
       "      <td>201612</td>\n",
       "      <td>00000A7F7EAB7A89935C2A0D0E237333F6BD25F39A25CA...</td>\n",
       "      <td>1967</td>\n",
       "      <td>2</td>\n",
       "      <td>8</td>\n",
       "      <td>5000</td>\n",
       "      <td>100</td>\n",
       "    </tr>\n",
       "    <tr>\n",
       "      <th>3</th>\n",
       "      <td>201612</td>\n",
       "      <td>000021C75553D953D4A453BA3960FC631AEBFA3A1E5B91...</td>\n",
       "      <td>1979</td>\n",
       "      <td>2</td>\n",
       "      <td>1</td>\n",
       "      <td>20000</td>\n",
       "      <td>240</td>\n",
       "    </tr>\n",
       "    <tr>\n",
       "      <th>4</th>\n",
       "      <td>201612</td>\n",
       "      <td>00003C32AB8920D905937368511AAA4785B0050775E8ED...</td>\n",
       "      <td>1987</td>\n",
       "      <td>1</td>\n",
       "      <td>21</td>\n",
       "      <td>3100</td>\n",
       "      <td>100</td>\n",
       "    </tr>\n",
       "  </tbody>\n",
       "</table>\n",
       "</div>"
      ],
      "text/plain": [
       "       YM                                           JOIN_KEY  BTH_YR  GENDER  \\\n",
       "0  201612  0000076992B1319652A66CA2167960F06128ADB8034BA9...    1966       1   \n",
       "1  201612  00000A7F7EAB7A89935C2A0D0E237333F6BD25F39A25CA...    1967       2   \n",
       "2  201612  00000A7F7EAB7A89935C2A0D0E237333F6BD25F39A25CA...    1967       2   \n",
       "3  201612  000021C75553D953D4A453BA3960FC631AEBFA3A1E5B91...    1979       2   \n",
       "4  201612  00003C32AB8920D905937368511AAA4785B0050775E8ED...    1987       1   \n",
       "\n",
       "   SCTR_CD  LN_AMT  LN_CD_2  \n",
       "0        3   50000      230  \n",
       "1        1    3500      200  \n",
       "2        8    5000      100  \n",
       "3        1   20000      240  \n",
       "4       21    3100      100  "
      ]
     },
     "execution_count": 6,
     "metadata": {},
     "output_type": "execute_result"
    }
   ],
   "source": [
    "year_df = new_df[new_df['YM']== year]\n",
    "year_df.drop(['COM_KEY','LN_CD_1','LN_YM'], axis='columns', inplace=True)\n",
    "year_df = year_df[['YM','JOIN_KEY','BTH_YR','GENDER','SCTR_CD','LN_AMT','LN_CD_2']]\n",
    "year_df.reset_index(drop=True, inplace=True)\n",
    "year_df.head()"
   ]
  },
  {
   "cell_type": "markdown",
   "metadata": {},
   "source": [
    "- YM과 JOIN_KEY를 없앤 데이터 (머신러닝에 돌리기 위해서)"
   ]
  },
  {
   "cell_type": "code",
   "execution_count": 7,
   "metadata": {},
   "outputs": [
    {
     "name": "stderr",
     "output_type": "stream",
     "text": [
      "C:\\Users\\csh\\Anaconda3\\envs\\tensorflow\\lib\\site-packages\\pandas\\core\\frame.py:4167: SettingWithCopyWarning: \n",
      "A value is trying to be set on a copy of a slice from a DataFrame\n",
      "\n",
      "See the caveats in the documentation: https://pandas.pydata.org/pandas-docs/stable/user_guide/indexing.html#returning-a-view-versus-a-copy\n",
      "  errors=errors,\n"
     ]
    },
    {
     "data": {
      "text/html": [
       "<div>\n",
       "<style scoped>\n",
       "    .dataframe tbody tr th:only-of-type {\n",
       "        vertical-align: middle;\n",
       "    }\n",
       "\n",
       "    .dataframe tbody tr th {\n",
       "        vertical-align: top;\n",
       "    }\n",
       "\n",
       "    .dataframe thead th {\n",
       "        text-align: right;\n",
       "    }\n",
       "</style>\n",
       "<table border=\"1\" class=\"dataframe\">\n",
       "  <thead>\n",
       "    <tr style=\"text-align: right;\">\n",
       "      <th></th>\n",
       "      <th>BTH_YR</th>\n",
       "      <th>GENDER</th>\n",
       "      <th>SCTR_CD</th>\n",
       "      <th>LN_AMT</th>\n",
       "      <th>LN_CD_2</th>\n",
       "    </tr>\n",
       "  </thead>\n",
       "  <tbody>\n",
       "    <tr>\n",
       "      <th>0</th>\n",
       "      <td>1966</td>\n",
       "      <td>1</td>\n",
       "      <td>3</td>\n",
       "      <td>50000</td>\n",
       "      <td>230</td>\n",
       "    </tr>\n",
       "    <tr>\n",
       "      <th>1</th>\n",
       "      <td>1967</td>\n",
       "      <td>2</td>\n",
       "      <td>1</td>\n",
       "      <td>3500</td>\n",
       "      <td>200</td>\n",
       "    </tr>\n",
       "    <tr>\n",
       "      <th>2</th>\n",
       "      <td>1967</td>\n",
       "      <td>2</td>\n",
       "      <td>8</td>\n",
       "      <td>5000</td>\n",
       "      <td>100</td>\n",
       "    </tr>\n",
       "    <tr>\n",
       "      <th>3</th>\n",
       "      <td>1979</td>\n",
       "      <td>2</td>\n",
       "      <td>1</td>\n",
       "      <td>20000</td>\n",
       "      <td>240</td>\n",
       "    </tr>\n",
       "    <tr>\n",
       "      <th>4</th>\n",
       "      <td>1987</td>\n",
       "      <td>1</td>\n",
       "      <td>21</td>\n",
       "      <td>3100</td>\n",
       "      <td>100</td>\n",
       "    </tr>\n",
       "  </tbody>\n",
       "</table>\n",
       "</div>"
      ],
      "text/plain": [
       "   BTH_YR  GENDER  SCTR_CD  LN_AMT  LN_CD_2\n",
       "0    1966       1        3   50000      230\n",
       "1    1967       2        1    3500      200\n",
       "2    1967       2        8    5000      100\n",
       "3    1979       2        1   20000      240\n",
       "4    1987       1       21    3100      100"
      ]
     },
     "execution_count": 7,
     "metadata": {},
     "output_type": "execute_result"
    }
   ],
   "source": [
    "year_df_temp = new_df[new_df['YM'] == year]\n",
    "year_df_temp.drop(['YM','JOIN_KEY','COM_KEY','LN_CD_1','LN_YM'], axis='columns', inplace=True)\n",
    "year_df_temp = year_df_temp[['BTH_YR','GENDER','SCTR_CD','LN_AMT','LN_CD_2']]\n",
    "year_df_temp.reset_index(drop=True, inplace=True)\n",
    "year_df_temp.head()"
   ]
  },
  {
   "cell_type": "code",
   "execution_count": 8,
   "metadata": {},
   "outputs": [],
   "source": [
    "# 나이구하기 ( 생년에서 나이로)\n",
    "year_df['BTH_YR'] = int(str(year)[0:4]) - year_df['BTH_YR']\n",
    "year_df_temp['BTH_YR'] = int(str(year)[0:4]) - year_df_temp['BTH_YR']"
   ]
  },
  {
   "cell_type": "code",
   "execution_count": 9,
   "metadata": {},
   "outputs": [],
   "source": [
    "# 대출금액 단위 맞추기 (천원단위에서 원단위로)\n",
    "year_df['LN_AMT'] = year_df['LN_AMT'] * 1000\n",
    "year_df_temp['LN_AMT'] = year_df_temp['LN_AMT'] * 1000"
   ]
  },
  {
   "cell_type": "markdown",
   "metadata": {},
   "source": [
    "### 3. 정규화"
   ]
  },
  {
   "cell_type": "markdown",
   "metadata": {},
   "source": [
    "- 정규화 전 4차원 그래프 출력\n",
    " - 나이, 업권코드, 대출금액으로 3차원, 성별을 도형으로"
   ]
  },
  {
   "cell_type": "code",
   "execution_count": 10,
   "metadata": {},
   "outputs": [],
   "source": [
    "# 정규화 전 4차원 그래프\n",
    "\n",
    "import plotly\n",
    "import plotly.graph_objs as go\n",
    "\n",
    "markershape = year_df['GENDER'].replace(1,\"square\").replace(2,\"circle\")\n",
    "\n",
    "#Make Plotly figure\n",
    "fig1 = go.Scatter3d(x=year_df['LN_AMT'],\n",
    "                    y=year_df['BTH_YR'],\n",
    "                    z=year_df['SCTR_CD'],\n",
    "                    marker=dict(\n",
    "                                size = 3,\n",
    "                                #color=markercolor,\n",
    "                                symbol=markershape,\n",
    "                                opacity=0.9,\n",
    "                                reversescale=True,\n",
    "                                colorscale=\"Viridis\",  \n",
    "                                #line=dict(color = 'gray', width=50)\n",
    "                    ),\n",
    "                    mode='markers')\n",
    "\n",
    "#Make Plot.ly Layout\n",
    "mylayout = go.Layout(scene=dict(xaxis=dict( title=\"loan_amt\"),\n",
    "                                yaxis=dict( title=\"birth_year\"),\n",
    "                                zaxis=dict(title=\"sctr_cd\")),\n",
    "                    width = 1000, height= 800,)\n",
    "\n",
    "#Plot and save html\n",
    "plotly.offline.iplot({\"data\": [fig1],\n",
    "                     \"layout\": mylayout})"
   ]
  },
  {
   "cell_type": "code",
   "execution_count": 11,
   "metadata": {},
   "outputs": [
    {
     "name": "stdout",
     "output_type": "stream",
     "text": [
      "나이: 17 ~ 81\n",
      "대출금액: 10000 ~ 1800000000\n",
      "업권코드: 1 ~ 98\n",
      "성별: 1 ~ 2\n"
     ]
    }
   ],
   "source": [
    "print(\"나이:\",min(list(set(year_df_temp['BTH_YR']))),\"~\", max(list(set(year_df_temp['BTH_YR']))))\n",
    "print(\"대출금액:\",min(list(set(year_df_temp['LN_AMT']))),\"~\", max(list(set(year_df_temp['LN_AMT']))))\n",
    "print(\"업권코드:\",min(list(set(year_df_temp['SCTR_CD']))),\"~\", max(list(set(year_df_temp['SCTR_CD']))))\n",
    "print(\"성별:\",min(list(set(year_df_temp['GENDER']))),\"~\", max(list(set(year_df_temp['GENDER']))))"
   ]
  },
  {
   "cell_type": "code",
   "execution_count": 12,
   "metadata": {},
   "outputs": [
    {
     "data": {
      "text/html": [
       "<div>\n",
       "<style scoped>\n",
       "    .dataframe tbody tr th:only-of-type {\n",
       "        vertical-align: middle;\n",
       "    }\n",
       "\n",
       "    .dataframe tbody tr th {\n",
       "        vertical-align: top;\n",
       "    }\n",
       "\n",
       "    .dataframe thead th {\n",
       "        text-align: right;\n",
       "    }\n",
       "</style>\n",
       "<table border=\"1\" class=\"dataframe\">\n",
       "  <thead>\n",
       "    <tr style=\"text-align: right;\">\n",
       "      <th></th>\n",
       "      <th>BTH_YR</th>\n",
       "      <th>GENDER</th>\n",
       "      <th>SCTR_CD</th>\n",
       "      <th>LN_AMT</th>\n",
       "      <th>LN_CD_2</th>\n",
       "    </tr>\n",
       "  </thead>\n",
       "  <tbody>\n",
       "    <tr>\n",
       "      <th>0</th>\n",
       "      <td>0.617284</td>\n",
       "      <td>0.5</td>\n",
       "      <td>0.030612</td>\n",
       "      <td>0.027778</td>\n",
       "      <td>230</td>\n",
       "    </tr>\n",
       "    <tr>\n",
       "      <th>1</th>\n",
       "      <td>0.604938</td>\n",
       "      <td>1.0</td>\n",
       "      <td>0.010204</td>\n",
       "      <td>0.001944</td>\n",
       "      <td>200</td>\n",
       "    </tr>\n",
       "    <tr>\n",
       "      <th>2</th>\n",
       "      <td>0.604938</td>\n",
       "      <td>1.0</td>\n",
       "      <td>0.081633</td>\n",
       "      <td>0.002778</td>\n",
       "      <td>100</td>\n",
       "    </tr>\n",
       "    <tr>\n",
       "      <th>3</th>\n",
       "      <td>0.456790</td>\n",
       "      <td>1.0</td>\n",
       "      <td>0.010204</td>\n",
       "      <td>0.011111</td>\n",
       "      <td>240</td>\n",
       "    </tr>\n",
       "    <tr>\n",
       "      <th>4</th>\n",
       "      <td>0.358025</td>\n",
       "      <td>0.5</td>\n",
       "      <td>0.214286</td>\n",
       "      <td>0.001722</td>\n",
       "      <td>100</td>\n",
       "    </tr>\n",
       "  </tbody>\n",
       "</table>\n",
       "</div>"
      ],
      "text/plain": [
       "     BTH_YR  GENDER   SCTR_CD    LN_AMT  LN_CD_2\n",
       "0  0.617284     0.5  0.030612  0.027778      230\n",
       "1  0.604938     1.0  0.010204  0.001944      200\n",
       "2  0.604938     1.0  0.081633  0.002778      100\n",
       "3  0.456790     1.0  0.010204  0.011111      240\n",
       "4  0.358025     0.5  0.214286  0.001722      100"
      ]
     },
     "execution_count": 12,
     "metadata": {},
     "output_type": "execute_result"
    }
   ],
   "source": [
    "# 가장 간단한 정규화\n",
    "\n",
    "year_df_temp['BTH_YR'] = year_df_temp['BTH_YR'] / 81\n",
    "year_df_temp['GENDER'] = year_df_temp['GENDER'] / 2\n",
    "year_df_temp['SCTR_CD'] = year_df_temp['SCTR_CD'] / 98\n",
    "year_df_temp['LN_AMT'] = year_df_temp['LN_AMT'] / 1800000000\n",
    "year_df_temp.head()"
   ]
  },
  {
   "cell_type": "markdown",
   "metadata": {},
   "source": [
    "- 정규화 후 4차원 그래프 출력\n",
    " - 나이, 업권코드, 대출금액으로 3차원, 성별을 도형으로"
   ]
  },
  {
   "cell_type": "code",
   "execution_count": 13,
   "metadata": {},
   "outputs": [],
   "source": [
    "# 정규화 후 4차원 그래프\n",
    "\n",
    "markershape = year_df_temp['GENDER'].replace(0.5,\"square\").replace(1,\"circle\")\n",
    "\n",
    "#Make Plotly figure\n",
    "fig2 = go.Scatter3d(x=year_df_temp['LN_AMT'],\n",
    "                    y=year_df_temp['BTH_YR'],\n",
    "                    z=year_df_temp['SCTR_CD'],\n",
    "                    marker=dict(\n",
    "                                size = 3,\n",
    "                                #color=markercolor,\n",
    "                                symbol=markershape,\n",
    "                                opacity=0.9,\n",
    "                                reversescale=True,\n",
    "                                #colorscale=\"Viridis\",  \n",
    "                                #line=dict(color = 'gray', width=50)\n",
    "                    ),\n",
    "                    mode='markers')\n",
    "\n",
    "#Make Plot.ly Layout\n",
    "mylayout = go.Layout(scene=dict(xaxis=dict( title=\"loan_amt\"),\n",
    "                                yaxis=dict( title=\"birth_year\"),\n",
    "                                zaxis=dict(title=\"sctr_cd\")),\n",
    "                    width = 1000, height= 800,)\n",
    "\n",
    "#Plot and save html\n",
    "plotly.offline.iplot({\"data\": [fig2],\n",
    "                     \"layout\": mylayout})"
   ]
  },
  {
   "cell_type": "markdown",
   "metadata": {},
   "source": [
    "### 4. Train, test 값 할당"
   ]
  },
  {
   "cell_type": "code",
   "execution_count": 14,
   "metadata": {},
   "outputs": [],
   "source": [
    "X = year_df_temp[['BTH_YR','GENDER','SCTR_CD','LN_AMT']]\n",
    "y = year_df_temp[['LN_CD_2']]"
   ]
  },
  {
   "cell_type": "code",
   "execution_count": 15,
   "metadata": {},
   "outputs": [],
   "source": [
    "X_train = X[0:len(X)-1]\n",
    "X_test = X[len(y)-1:len(y)]\n",
    "y_train = y[0:len(y)-1]\n",
    "y_test = y[len(y)-1:len(y)]"
   ]
  },
  {
   "cell_type": "markdown",
   "metadata": {},
   "source": [
    "### 5. k-means 예측"
   ]
  },
  {
   "cell_type": "code",
   "execution_count": 16,
   "metadata": {},
   "outputs": [
    {
     "data": {
      "image/png": "[encoded data removed]",
      "text/plain": [
       "<Figure size 432x288 with 1 Axes>"
      ]
     },
     "metadata": {
      "needs_background": "light"
     },
     "output_type": "display_data"
    }
   ],
   "source": [
    "points = X_train.values\n",
    "\n",
    "# 그래프에서 가장 급격하게 꺽이는 지점의 x값이 올바른 k의 값\n",
    "def elbow(x):\n",
    "    sse = []\n",
    "    for i in range(1,11):\n",
    "        km=REAL_Kmeans(n_clusters=i, init='k-means++', random_state=0)\n",
    "        km.fit(x)\n",
    "        sse.append(km.inertia_)\n",
    "        \n",
    "    plt.plot(range(1,11), sse, marker='o')\n",
    "    plt.xlabel('cluster number')\n",
    "    plt.ylabel('SSE')\n",
    "    plt.show()\n",
    "\n",
    "elbow(points)"
   ]
  },
  {
   "cell_type": "code",
   "execution_count": 17,
   "metadata": {},
   "outputs": [
    {
     "name": "stderr",
     "output_type": "stream",
     "text": [
      "C:\\Users\\csh\\Anaconda3\\envs\\tensorflow\\lib\\site-packages\\ipykernel_launcher.py:3: SettingWithCopyWarning: \n",
      "A value is trying to be set on a copy of a slice from a DataFrame.\n",
      "Try using .loc[row_indexer,col_indexer] = value instead\n",
      "\n",
      "See the caveats in the documentation: https://pandas.pydata.org/pandas-docs/stable/user_guide/indexing.html#returning-a-view-versus-a-copy\n",
      "  This is separate from the ipykernel package so we can avoid doing imports until\n"
     ]
    },
    {
     "data": {
      "text/html": [
       "<div>\n",
       "<style scoped>\n",
       "    .dataframe tbody tr th:only-of-type {\n",
       "        vertical-align: middle;\n",
       "    }\n",
       "\n",
       "    .dataframe tbody tr th {\n",
       "        vertical-align: top;\n",
       "    }\n",
       "\n",
       "    .dataframe thead th {\n",
       "        text-align: right;\n",
       "    }\n",
       "</style>\n",
       "<table border=\"1\" class=\"dataframe\">\n",
       "  <thead>\n",
       "    <tr style=\"text-align: right;\">\n",
       "      <th></th>\n",
       "      <th>BTH_YR</th>\n",
       "      <th>GENDER</th>\n",
       "      <th>SCTR_CD</th>\n",
       "      <th>LN_AMT</th>\n",
       "      <th>cluster</th>\n",
       "    </tr>\n",
       "  </thead>\n",
       "  <tbody>\n",
       "    <tr>\n",
       "      <th>0</th>\n",
       "      <td>0.617284</td>\n",
       "      <td>0.5</td>\n",
       "      <td>0.030612</td>\n",
       "      <td>0.027778</td>\n",
       "      <td>2</td>\n",
       "    </tr>\n",
       "    <tr>\n",
       "      <th>1</th>\n",
       "      <td>0.604938</td>\n",
       "      <td>1.0</td>\n",
       "      <td>0.010204</td>\n",
       "      <td>0.001944</td>\n",
       "      <td>1</td>\n",
       "    </tr>\n",
       "    <tr>\n",
       "      <th>2</th>\n",
       "      <td>0.604938</td>\n",
       "      <td>1.0</td>\n",
       "      <td>0.081633</td>\n",
       "      <td>0.002778</td>\n",
       "      <td>1</td>\n",
       "    </tr>\n",
       "    <tr>\n",
       "      <th>3</th>\n",
       "      <td>0.456790</td>\n",
       "      <td>1.0</td>\n",
       "      <td>0.010204</td>\n",
       "      <td>0.011111</td>\n",
       "      <td>1</td>\n",
       "    </tr>\n",
       "    <tr>\n",
       "      <th>4</th>\n",
       "      <td>0.358025</td>\n",
       "      <td>0.5</td>\n",
       "      <td>0.214286</td>\n",
       "      <td>0.001722</td>\n",
       "      <td>2</td>\n",
       "    </tr>\n",
       "  </tbody>\n",
       "</table>\n",
       "</div>"
      ],
      "text/plain": [
       "     BTH_YR  GENDER   SCTR_CD    LN_AMT  cluster\n",
       "0  0.617284     0.5  0.030612  0.027778        2\n",
       "1  0.604938     1.0  0.010204  0.001944        1\n",
       "2  0.604938     1.0  0.081633  0.002778        1\n",
       "3  0.456790     1.0  0.010204  0.011111        1\n",
       "4  0.358025     0.5  0.214286  0.001722        2"
      ]
     },
     "execution_count": 17,
     "metadata": {},
     "output_type": "execute_result"
    }
   ],
   "source": [
    "REAL_kmeans = REAL_Kmeans(n_clusters=3).fit(X_train)\n",
    "#REAL_kmeans.cluster_centers_\n",
    "X_train['cluster']=REAL_kmeans.labels_\n",
    "X_train.head()"
   ]
  },
  {
   "cell_type": "code",
   "execution_count": 18,
   "metadata": {},
   "outputs": [],
   "source": [
    "predict_1 = REAL_kmeans.predict(X_test)"
   ]
  },
  {
   "cell_type": "code",
   "execution_count": 19,
   "metadata": {},
   "outputs": [],
   "source": [
    "def recommend(x):# x는 예측된 결과 데이터\n",
    "    array= []\n",
    "    for i in range(len(X_train)):\n",
    "        if x[0] == X_train['cluster'][i]:\n",
    "            array.append(y_train['LN_CD_2'][i])\n",
    "    result = Counter(array)\n",
    "    i = 0\n",
    "    a = 0\n",
    "    for key in result:\n",
    "        if i < result[key] :\n",
    "            i = result[key]\n",
    "            a = key\n",
    "        print(key,':' ,result[key],\"명\")\n",
    "    print(\"\")\n",
    "    print(\"추천상품: \"+ str(a))\n",
    "    print(\"고객님과 비슷한 수입, 나이대의 사람이 이 대출 상품을 \"+str(i)+\" 명 사용합니다.\")"
   ]
  },
  {
   "cell_type": "code",
   "execution_count": 20,
   "metadata": {},
   "outputs": [
    {
     "name": "stdout",
     "output_type": "stream",
     "text": [
      "200 : 834 명\n",
      "100 : 6384 명\n",
      "240 : 1156 명\n",
      "0 : 7908 명\n",
      "270 : 365 명\n",
      "220 : 3410 명\n",
      "230 : 764 명\n",
      "245 : 49 명\n",
      "500 : 809 명\n",
      "590 : 125 명\n",
      "510 : 237 명\n",
      "710 : 41 명\n",
      "290 : 257 명\n",
      "210 : 91 명\n",
      "170 : 11 명\n",
      "250 : 122 명\n",
      "150 : 14 명\n",
      "700 : 18 명\n",
      "271 : 5 명\n",
      "\n",
      "추천상품: 0\n",
      "고객님과 비슷한 수입, 나이대의 사람이 이 대출 상품을 7908 명 사용합니다.\n"
     ]
    }
   ],
   "source": [
    "recommend(predict_1)"
   ]
  },
  {
   "cell_type": "markdown",
   "metadata": {},
   "source": [
    "- k-means 수행 후 5차원 그래프 표현\n",
    " - 지금까지 한 4차원 그래프에 label을 색깔로 표현"
   ]
  },
  {
   "cell_type": "code",
   "execution_count": 21,
   "metadata": {},
   "outputs": [],
   "source": [
    "# k-means 수행 후 label을 추가한 5차원 그래프\n",
    "\n",
    "markercolor = X_train['cluster']\n",
    "markershape = X_train['GENDER'].replace(0.5,\"square\").replace(1,\"circle\")\n",
    "\n",
    "#Make Plotly figure\n",
    "fig1 = go.Scatter3d(x=X_train['LN_AMT'],\n",
    "                    y=X_train['BTH_YR'],\n",
    "                    z=X_train['SCTR_CD'],\n",
    "                    marker=dict(\n",
    "                                size = 3,\n",
    "                                color=markercolor,\n",
    "                                symbol=markershape,\n",
    "                                opacity=0.9,\n",
    "                                reversescale=True,\n",
    "                                colorscale=\"Viridis\",  \n",
    "                                #line=dict(color = 'gray', width=50)\n",
    "                    ),\n",
    "                    mode='markers')\n",
    "\n",
    "#Make Plot.ly Layout\n",
    "mylayout = go.Layout(scene=dict(xaxis=dict( title=\"loan_amt\"),\n",
    "                                yaxis=dict( title=\"birth_year\"),\n",
    "                                zaxis=dict(title=\"sctr_cd\")),\n",
    "                    width = 1000, height= 800,)\n",
    "\n",
    "#Plot and save html\n",
    "plotly.offline.iplot({\"data\": [fig1],\n",
    "                     \"layout\": mylayout})"
   ]
  },
  {
   "cell_type": "markdown",
   "metadata": {},
   "source": [
    "### 6. Differential Privacy k-means 예측"
   ]
  },
  {
   "cell_type": "code",
   "execution_count": 22,
   "metadata": {},
   "outputs": [
    {
     "name": "stderr",
     "output_type": "stream",
     "text": [
      "C:\\Users\\csh\\Anaconda3\\envs\\tensorflow\\lib\\site-packages\\pandas\\core\\frame.py:4167: SettingWithCopyWarning: \n",
      "A value is trying to be set on a copy of a slice from a DataFrame\n",
      "\n",
      "See the caveats in the documentation: https://pandas.pydata.org/pandas-docs/stable/user_guide/indexing.html#returning-a-view-versus-a-copy\n",
      "  errors=errors,\n"
     ]
    },
    {
     "data": {
      "text/html": [
       "<div>\n",
       "<style scoped>\n",
       "    .dataframe tbody tr th:only-of-type {\n",
       "        vertical-align: middle;\n",
       "    }\n",
       "\n",
       "    .dataframe tbody tr th {\n",
       "        vertical-align: top;\n",
       "    }\n",
       "\n",
       "    .dataframe thead th {\n",
       "        text-align: right;\n",
       "    }\n",
       "</style>\n",
       "<table border=\"1\" class=\"dataframe\">\n",
       "  <thead>\n",
       "    <tr style=\"text-align: right;\">\n",
       "      <th></th>\n",
       "      <th>BTH_YR</th>\n",
       "      <th>GENDER</th>\n",
       "      <th>SCTR_CD</th>\n",
       "      <th>LN_AMT</th>\n",
       "    </tr>\n",
       "  </thead>\n",
       "  <tbody>\n",
       "    <tr>\n",
       "      <th>0</th>\n",
       "      <td>0.617284</td>\n",
       "      <td>0.5</td>\n",
       "      <td>0.030612</td>\n",
       "      <td>0.027778</td>\n",
       "    </tr>\n",
       "    <tr>\n",
       "      <th>1</th>\n",
       "      <td>0.604938</td>\n",
       "      <td>1.0</td>\n",
       "      <td>0.010204</td>\n",
       "      <td>0.001944</td>\n",
       "    </tr>\n",
       "    <tr>\n",
       "      <th>2</th>\n",
       "      <td>0.604938</td>\n",
       "      <td>1.0</td>\n",
       "      <td>0.081633</td>\n",
       "      <td>0.002778</td>\n",
       "    </tr>\n",
       "    <tr>\n",
       "      <th>3</th>\n",
       "      <td>0.456790</td>\n",
       "      <td>1.0</td>\n",
       "      <td>0.010204</td>\n",
       "      <td>0.011111</td>\n",
       "    </tr>\n",
       "    <tr>\n",
       "      <th>4</th>\n",
       "      <td>0.358025</td>\n",
       "      <td>0.5</td>\n",
       "      <td>0.214286</td>\n",
       "      <td>0.001722</td>\n",
       "    </tr>\n",
       "    <tr>\n",
       "      <th>...</th>\n",
       "      <td>...</td>\n",
       "      <td>...</td>\n",
       "      <td>...</td>\n",
       "      <td>...</td>\n",
       "    </tr>\n",
       "    <tr>\n",
       "      <th>57671</th>\n",
       "      <td>0.271605</td>\n",
       "      <td>1.0</td>\n",
       "      <td>0.030612</td>\n",
       "      <td>0.001889</td>\n",
       "    </tr>\n",
       "    <tr>\n",
       "      <th>57672</th>\n",
       "      <td>0.753086</td>\n",
       "      <td>1.0</td>\n",
       "      <td>0.173469</td>\n",
       "      <td>0.003556</td>\n",
       "    </tr>\n",
       "    <tr>\n",
       "      <th>57673</th>\n",
       "      <td>0.617284</td>\n",
       "      <td>0.5</td>\n",
       "      <td>0.010204</td>\n",
       "      <td>0.016667</td>\n",
       "    </tr>\n",
       "    <tr>\n",
       "      <th>57674</th>\n",
       "      <td>0.592593</td>\n",
       "      <td>0.5</td>\n",
       "      <td>0.030612</td>\n",
       "      <td>0.016667</td>\n",
       "    </tr>\n",
       "    <tr>\n",
       "      <th>57675</th>\n",
       "      <td>0.592593</td>\n",
       "      <td>0.5</td>\n",
       "      <td>0.030612</td>\n",
       "      <td>0.094444</td>\n",
       "    </tr>\n",
       "  </tbody>\n",
       "</table>\n",
       "<p>57676 rows × 4 columns</p>\n",
       "</div>"
      ],
      "text/plain": [
       "         BTH_YR  GENDER   SCTR_CD    LN_AMT\n",
       "0      0.617284     0.5  0.030612  0.027778\n",
       "1      0.604938     1.0  0.010204  0.001944\n",
       "2      0.604938     1.0  0.081633  0.002778\n",
       "3      0.456790     1.0  0.010204  0.011111\n",
       "4      0.358025     0.5  0.214286  0.001722\n",
       "...         ...     ...       ...       ...\n",
       "57671  0.271605     1.0  0.030612  0.001889\n",
       "57672  0.753086     1.0  0.173469  0.003556\n",
       "57673  0.617284     0.5  0.010204  0.016667\n",
       "57674  0.592593     0.5  0.030612  0.016667\n",
       "57675  0.592593     0.5  0.030612  0.094444\n",
       "\n",
       "[57676 rows x 4 columns]"
      ]
     },
     "execution_count": 22,
     "metadata": {},
     "output_type": "execute_result"
    }
   ],
   "source": [
    "X_train.drop(['cluster'], axis='columns', inplace=True)\n",
    "X_train"
   ]
  },
  {
   "cell_type": "code",
   "execution_count": 23,
   "metadata": {},
   "outputs": [
    {
     "name": "stderr",
     "output_type": "stream",
     "text": [
      "C:\\Users\\csh\\Anaconda3\\envs\\tensorflow\\lib\\site-packages\\diffprivlib\\models\\k_means.py:131: PrivacyLeakWarning: Bounds have not been specified and will be calculated on the data provided.  This will result in additional privacy leakage. To ensure differential privacy and no additional privacy leakage, specify `bounds` for each dimension.\n",
      "  \"privacy leakage, specify `bounds` for each dimension.\", PrivacyLeakWarning)\n",
      "C:\\Users\\csh\\Anaconda3\\envs\\tensorflow\\lib\\site-packages\\ipykernel_launcher.py:3: SettingWithCopyWarning: \n",
      "A value is trying to be set on a copy of a slice from a DataFrame.\n",
      "Try using .loc[row_indexer,col_indexer] = value instead\n",
      "\n",
      "See the caveats in the documentation: https://pandas.pydata.org/pandas-docs/stable/user_guide/indexing.html#returning-a-view-versus-a-copy\n",
      "  This is separate from the ipykernel package so we can avoid doing imports until\n"
     ]
    },
    {
     "data": {
      "text/html": [
       "<div>\n",
       "<style scoped>\n",
       "    .dataframe tbody tr th:only-of-type {\n",
       "        vertical-align: middle;\n",
       "    }\n",
       "\n",
       "    .dataframe tbody tr th {\n",
       "        vertical-align: top;\n",
       "    }\n",
       "\n",
       "    .dataframe thead th {\n",
       "        text-align: right;\n",
       "    }\n",
       "</style>\n",
       "<table border=\"1\" class=\"dataframe\">\n",
       "  <thead>\n",
       "    <tr style=\"text-align: right;\">\n",
       "      <th></th>\n",
       "      <th>BTH_YR</th>\n",
       "      <th>GENDER</th>\n",
       "      <th>SCTR_CD</th>\n",
       "      <th>LN_AMT</th>\n",
       "      <th>cluster</th>\n",
       "    </tr>\n",
       "  </thead>\n",
       "  <tbody>\n",
       "    <tr>\n",
       "      <th>0</th>\n",
       "      <td>0.617284</td>\n",
       "      <td>0.5</td>\n",
       "      <td>0.030612</td>\n",
       "      <td>0.027778</td>\n",
       "      <td>2</td>\n",
       "    </tr>\n",
       "    <tr>\n",
       "      <th>1</th>\n",
       "      <td>0.604938</td>\n",
       "      <td>1.0</td>\n",
       "      <td>0.010204</td>\n",
       "      <td>0.001944</td>\n",
       "      <td>2</td>\n",
       "    </tr>\n",
       "    <tr>\n",
       "      <th>2</th>\n",
       "      <td>0.604938</td>\n",
       "      <td>1.0</td>\n",
       "      <td>0.081633</td>\n",
       "      <td>0.002778</td>\n",
       "      <td>2</td>\n",
       "    </tr>\n",
       "    <tr>\n",
       "      <th>3</th>\n",
       "      <td>0.456790</td>\n",
       "      <td>1.0</td>\n",
       "      <td>0.010204</td>\n",
       "      <td>0.011111</td>\n",
       "      <td>2</td>\n",
       "    </tr>\n",
       "    <tr>\n",
       "      <th>4</th>\n",
       "      <td>0.358025</td>\n",
       "      <td>0.5</td>\n",
       "      <td>0.214286</td>\n",
       "      <td>0.001722</td>\n",
       "      <td>2</td>\n",
       "    </tr>\n",
       "  </tbody>\n",
       "</table>\n",
       "</div>"
      ],
      "text/plain": [
       "     BTH_YR  GENDER   SCTR_CD    LN_AMT  cluster\n",
       "0  0.617284     0.5  0.030612  0.027778        2\n",
       "1  0.604938     1.0  0.010204  0.001944        2\n",
       "2  0.604938     1.0  0.081633  0.002778        2\n",
       "3  0.456790     1.0  0.010204  0.011111        2\n",
       "4  0.358025     0.5  0.214286  0.001722        2"
      ]
     },
     "execution_count": 23,
     "metadata": {},
     "output_type": "execute_result"
    }
   ],
   "source": [
    "DP_kmeans = DP_KMeans(epsilon=epsilon,n_clusters=3).fit(X_train)\n",
    "#DP_kmeans.cluster_centers_\n",
    "X_train['cluster'] = DP_kmeans.labels_\n",
    "X_train.head()"
   ]
  },
  {
   "cell_type": "code",
   "execution_count": 24,
   "metadata": {},
   "outputs": [
    {
     "name": "stdout",
     "output_type": "stream",
     "text": [
      "dp 적용한 test 값의 적절한 label은 2 입니다.\n"
     ]
    }
   ],
   "source": [
    "predict_2=DP_kmeans.predict(X_test)\n",
    "print(\"dp 적용한 test 값의 적절한 label은 \"+str(predict_2[0])+\" 입니다.\")"
   ]
  },
  {
   "cell_type": "code",
   "execution_count": 25,
   "metadata": {},
   "outputs": [
    {
     "name": "stdout",
     "output_type": "stream",
     "text": [
      "230 : 1912 명\n",
      "200 : 1814 명\n",
      "100 : 17133 명\n",
      "240 : 3096 명\n",
      "0 : 15672 명\n",
      "270 : 1006 명\n",
      "220 : 8255 명\n",
      "245 : 170 명\n",
      "500 : 2601 명\n",
      "210 : 235 명\n",
      "590 : 303 명\n",
      "250 : 328 명\n",
      "510 : 792 명\n",
      "150 : 41 명\n",
      "700 : 64 명\n",
      "710 : 123 명\n",
      "290 : 696 명\n",
      "170 : 30 명\n",
      "271 : 12 명\n",
      "\n",
      "추천상품: 100\n",
      "고객님과 비슷한 수입, 나이대의 사람이 이 대출 상품을 17133 명 사용합니다.\n"
     ]
    }
   ],
   "source": [
    "recommend(predict_2)"
   ]
  },
  {
   "cell_type": "markdown",
   "metadata": {},
   "source": [
    "- DP k-means 수행 후 5차원 그래프 표현\n",
    " - 지금까지 한 4차원 그래프에 label을 색깔로 표현"
   ]
  },
  {
   "cell_type": "code",
   "execution_count": 26,
   "metadata": {},
   "outputs": [],
   "source": [
    "# DP k-means 수행 후 label을 추가한 5차원 그래프\n",
    "\n",
    "markercolor = X_train['cluster']\n",
    "markershape = X_train['GENDER'].replace(0.5,\"square\").replace(1,\"circle\")\n",
    "\n",
    "#Make Plotly figure\n",
    "fig1 = go.Scatter3d(x=X_train['LN_AMT'],\n",
    "                    y=X_train['BTH_YR'],\n",
    "                    z=X_train['SCTR_CD'],\n",
    "                    marker=dict(\n",
    "                                size = 3,\n",
    "                                color=markercolor,\n",
    "                                symbol=markershape,\n",
    "                                opacity=0.9,\n",
    "                                reversescale=True,\n",
    "                                colorscale=\"Viridis\",  \n",
    "                                #line=dict(color = 'gray', width=50)\n",
    "                    ),\n",
    "                    mode='markers')\n",
    "\n",
    "#Make Plot.ly Layout\n",
    "mylayout = go.Layout(scene=dict(xaxis=dict( title=\"loan_amt\"),\n",
    "                                yaxis=dict( title=\"birth_year\"),\n",
    "                                zaxis=dict(title=\"sctr_cd\")),\n",
    "                    width = 1000, height= 800,)\n",
    "\n",
    "#Plot and save html\n",
    "plotly.offline.iplot({\"data\": [fig1],\n",
    "                     \"layout\": mylayout})"
   ]
  },
  {
   "cell_type": "markdown",
   "metadata": {},
   "source": [
    "### 7. 결과값 비교"
   ]
  },
  {
   "cell_type": "code",
   "execution_count": 27,
   "metadata": {},
   "outputs": [
    {
     "name": "stdout",
     "output_type": "stream",
     "text": [
      "710 : 5 명\n",
      "0 : 57 명\n",
      "220 : 47 명\n",
      "100 : 229 명\n",
      "500 : 74 명\n",
      "240 : 20 명\n",
      "230 : 51 명\n",
      "200 : 16 명\n",
      "290 : 24 명\n",
      "590 : 9 명\n",
      "700 : 1 명\n",
      "210 : 11 명\n",
      "510 : 14 명\n",
      "270 : 2 명\n",
      "150 : 3 명\n",
      "245 : 3 명\n",
      "271 : 1 명\n",
      "\n",
      "추천상품: 100\n",
      "고객님과 비슷한 수입, 나이대의 사람이 이 대출 상품을 229 명 사용합니다.\n"
     ]
    }
   ],
   "source": [
    "recommend(predict_1)"
   ]
  },
  {
   "cell_type": "code",
   "execution_count": 28,
   "metadata": {},
   "outputs": [
    {
     "name": "stdout",
     "output_type": "stream",
     "text": [
      "230 : 1912 명\n",
      "200 : 1814 명\n",
      "100 : 17133 명\n",
      "240 : 3096 명\n",
      "0 : 15672 명\n",
      "270 : 1006 명\n",
      "220 : 8255 명\n",
      "245 : 170 명\n",
      "500 : 2601 명\n",
      "210 : 235 명\n",
      "590 : 303 명\n",
      "250 : 328 명\n",
      "510 : 792 명\n",
      "150 : 41 명\n",
      "700 : 64 명\n",
      "710 : 123 명\n",
      "290 : 696 명\n",
      "170 : 30 명\n",
      "271 : 12 명\n",
      "\n",
      "추천상품: 100\n",
      "고객님과 비슷한 수입, 나이대의 사람이 이 대출 상품을 17133 명 사용합니다.\n"
     ]
    }
   ],
   "source": [
    "recommend(predict_2)"
   ]
  },
  {
   "cell_type": "markdown",
   "metadata": {},
   "source": [
    "### 8. k-익명성, l- 다양성 적용"
   ]
  },
  {
   "cell_type": "code",
   "execution_count": 29,
   "metadata": {},
   "outputs": [],
   "source": [
    "# k-익명성\n",
    "\n",
    "# 나이와 성별을 준식별자로 두고 나이의 범주화를 통해서 나이와 성별이 동일한 컬럼인 k값을 구해본다."
   ]
  },
  {
   "cell_type": "code",
   "execution_count": 30,
   "metadata": {},
   "outputs": [],
   "source": [
    "# l-다양성\n",
    "\n",
    "# 나이와 성별을 준식별자로 두고 나이의 범주화를 통해서 k값을 구한 후, 업권코드와 대출금액을 민감정보로 지정한다.\n",
    "# 대출금액의 범주화나 라운딩(반올림) 등을 통하여 같은 k 익명성 적용 행들 중 얼마나 다양한 l값이 존재하는지 확인해본다."
   ]
  },
  {
   "cell_type": "markdown",
   "metadata": {},
   "source": [
    "### 9. 시각화 예시 코드 (위에 두기 거슬려서 밑에 둡니다.)"
   ]
  },
  {
   "cell_type": "code",
   "execution_count": 31,
   "metadata": {},
   "outputs": [
    {
     "ename": "ValueError",
     "evalue": "\n    Invalid element(s) received for the 'symbol' property of scatter3d.marker\n        Invalid elements include: [0.5, 0.5, 0.5, 0.5, 0.5, 0.5, 0.5, 0.5, 0.5, 0.5]\n\n    The 'symbol' property is an enumeration that may be specified as:\n      - One of the following enumeration values:\n            ['circle', 'circle-open', 'square', 'square-open',\n            'diamond', 'diamond-open', 'cross', 'x']\n      - A tuple, list, or one-dimensional numpy array of the above",
     "output_type": "error",
     "traceback": [
      "\u001b[1;31m---------------------------------------------------------------------------\u001b[0m",
      "\u001b[1;31mValueError\u001b[0m                                Traceback (most recent call last)",
      "\u001b[1;32m<ipython-input-31-c05cac794314>\u001b[0m in \u001b[0;36m<module>\u001b[1;34m\u001b[0m\n\u001b[0;32m     17\u001b[0m                                 colorscale='Blues'),\n\u001b[0;32m     18\u001b[0m                     \u001b[0mline\u001b[0m\u001b[1;33m=\u001b[0m\u001b[0mdict\u001b[0m \u001b[1;33m(\u001b[0m\u001b[0mwidth\u001b[0m\u001b[1;33m=\u001b[0m\u001b[1;36m0.02\u001b[0m\u001b[1;33m)\u001b[0m\u001b[1;33m,\u001b[0m\u001b[1;33m\u001b[0m\u001b[1;33m\u001b[0m\u001b[0m\n\u001b[1;32m---> 19\u001b[1;33m                     mode='markers')\n\u001b[0m\u001b[0;32m     20\u001b[0m \u001b[1;33m\u001b[0m\u001b[0m\n\u001b[0;32m     21\u001b[0m \u001b[1;31m#Make Plot.ly Layout\u001b[0m\u001b[1;33m\u001b[0m\u001b[1;33m\u001b[0m\u001b[1;33m\u001b[0m\u001b[0m\n",
      "\u001b[1;32m~\\Anaconda3\\envs\\tensorflow\\lib\\site-packages\\plotly\\graph_objs\\_scatter3d.py\u001b[0m in \u001b[0;36m__init__\u001b[1;34m(self, arg, connectgaps, customdata, customdatasrc, error_x, error_y, error_z, hoverinfo, hoverinfosrc, hoverlabel, hovertemplate, hovertemplatesrc, hovertext, hovertextsrc, ids, idssrc, legendgroup, line, marker, meta, metasrc, mode, name, opacity, projection, scene, showlegend, stream, surfaceaxis, surfacecolor, text, textfont, textposition, textpositionsrc, textsrc, texttemplate, texttemplatesrc, uid, uirevision, visible, x, xcalendar, xsrc, y, ycalendar, ysrc, z, zcalendar, zsrc, **kwargs)\u001b[0m\n\u001b[0;32m   2311\u001b[0m         \u001b[0m_v\u001b[0m \u001b[1;33m=\u001b[0m \u001b[0mmarker\u001b[0m \u001b[1;32mif\u001b[0m \u001b[0mmarker\u001b[0m \u001b[1;32mis\u001b[0m \u001b[1;32mnot\u001b[0m \u001b[1;32mNone\u001b[0m \u001b[1;32melse\u001b[0m \u001b[0m_v\u001b[0m\u001b[1;33m\u001b[0m\u001b[1;33m\u001b[0m\u001b[0m\n\u001b[0;32m   2312\u001b[0m         \u001b[1;32mif\u001b[0m \u001b[0m_v\u001b[0m \u001b[1;32mis\u001b[0m \u001b[1;32mnot\u001b[0m \u001b[1;32mNone\u001b[0m\u001b[1;33m:\u001b[0m\u001b[1;33m\u001b[0m\u001b[1;33m\u001b[0m\u001b[0m\n\u001b[1;32m-> 2313\u001b[1;33m             \u001b[0mself\u001b[0m\u001b[1;33m[\u001b[0m\u001b[1;34m\"marker\"\u001b[0m\u001b[1;33m]\u001b[0m \u001b[1;33m=\u001b[0m \u001b[0m_v\u001b[0m\u001b[1;33m\u001b[0m\u001b[1;33m\u001b[0m\u001b[0m\n\u001b[0m\u001b[0;32m   2314\u001b[0m         \u001b[0m_v\u001b[0m \u001b[1;33m=\u001b[0m \u001b[0marg\u001b[0m\u001b[1;33m.\u001b[0m\u001b[0mpop\u001b[0m\u001b[1;33m(\u001b[0m\u001b[1;34m\"meta\"\u001b[0m\u001b[1;33m,\u001b[0m \u001b[1;32mNone\u001b[0m\u001b[1;33m)\u001b[0m\u001b[1;33m\u001b[0m\u001b[1;33m\u001b[0m\u001b[0m\n\u001b[0;32m   2315\u001b[0m         \u001b[0m_v\u001b[0m \u001b[1;33m=\u001b[0m \u001b[0mmeta\u001b[0m \u001b[1;32mif\u001b[0m \u001b[0mmeta\u001b[0m \u001b[1;32mis\u001b[0m \u001b[1;32mnot\u001b[0m \u001b[1;32mNone\u001b[0m \u001b[1;32melse\u001b[0m \u001b[0m_v\u001b[0m\u001b[1;33m\u001b[0m\u001b[1;33m\u001b[0m\u001b[0m\n",
      "\u001b[1;32m~\\Anaconda3\\envs\\tensorflow\\lib\\site-packages\\plotly\\basedatatypes.py\u001b[0m in \u001b[0;36m__setitem__\u001b[1;34m(self, prop, value)\u001b[0m\n\u001b[0;32m   4009\u001b[0m                 \u001b[1;31m# ### Handle compound property ###\u001b[0m\u001b[1;33m\u001b[0m\u001b[1;33m\u001b[0m\u001b[1;33m\u001b[0m\u001b[0m\n\u001b[0;32m   4010\u001b[0m                 \u001b[1;32mif\u001b[0m \u001b[0misinstance\u001b[0m\u001b[1;33m(\u001b[0m\u001b[0mvalidator\u001b[0m\u001b[1;33m,\u001b[0m \u001b[0mCompoundValidator\u001b[0m\u001b[1;33m)\u001b[0m\u001b[1;33m:\u001b[0m\u001b[1;33m\u001b[0m\u001b[1;33m\u001b[0m\u001b[0m\n\u001b[1;32m-> 4011\u001b[1;33m                     \u001b[0mself\u001b[0m\u001b[1;33m.\u001b[0m\u001b[0m_set_compound_prop\u001b[0m\u001b[1;33m(\u001b[0m\u001b[0mprop\u001b[0m\u001b[1;33m,\u001b[0m \u001b[0mvalue\u001b[0m\u001b[1;33m)\u001b[0m\u001b[1;33m\u001b[0m\u001b[1;33m\u001b[0m\u001b[0m\n\u001b[0m\u001b[0;32m   4012\u001b[0m \u001b[1;33m\u001b[0m\u001b[0m\n\u001b[0;32m   4013\u001b[0m                 \u001b[1;31m# ### Handle compound array property ###\u001b[0m\u001b[1;33m\u001b[0m\u001b[1;33m\u001b[0m\u001b[1;33m\u001b[0m\u001b[0m\n",
      "\u001b[1;32m~\\Anaconda3\\envs\\tensorflow\\lib\\site-packages\\plotly\\basedatatypes.py\u001b[0m in \u001b[0;36m_set_compound_prop\u001b[1;34m(self, prop, val)\u001b[0m\n\u001b[0;32m   4394\u001b[0m         \u001b[1;31m# ------------\u001b[0m\u001b[1;33m\u001b[0m\u001b[1;33m\u001b[0m\u001b[1;33m\u001b[0m\u001b[0m\n\u001b[0;32m   4395\u001b[0m         \u001b[0mvalidator\u001b[0m \u001b[1;33m=\u001b[0m \u001b[0mself\u001b[0m\u001b[1;33m.\u001b[0m\u001b[0m_get_validator\u001b[0m\u001b[1;33m(\u001b[0m\u001b[0mprop\u001b[0m\u001b[1;33m)\u001b[0m\u001b[1;33m\u001b[0m\u001b[1;33m\u001b[0m\u001b[0m\n\u001b[1;32m-> 4396\u001b[1;33m         \u001b[0mval\u001b[0m \u001b[1;33m=\u001b[0m \u001b[0mvalidator\u001b[0m\u001b[1;33m.\u001b[0m\u001b[0mvalidate_coerce\u001b[0m\u001b[1;33m(\u001b[0m\u001b[0mval\u001b[0m\u001b[1;33m,\u001b[0m \u001b[0mskip_invalid\u001b[0m\u001b[1;33m=\u001b[0m\u001b[0mself\u001b[0m\u001b[1;33m.\u001b[0m\u001b[0m_skip_invalid\u001b[0m\u001b[1;33m)\u001b[0m\u001b[1;33m\u001b[0m\u001b[1;33m\u001b[0m\u001b[0m\n\u001b[0m\u001b[0;32m   4397\u001b[0m \u001b[1;33m\u001b[0m\u001b[0m\n\u001b[0;32m   4398\u001b[0m         \u001b[1;31m# Save deep copies of current and new states\u001b[0m\u001b[1;33m\u001b[0m\u001b[1;33m\u001b[0m\u001b[1;33m\u001b[0m\u001b[0m\n",
      "\u001b[1;32m~\\Anaconda3\\envs\\tensorflow\\lib\\site-packages\\_plotly_utils\\basevalidators.py\u001b[0m in \u001b[0;36mvalidate_coerce\u001b[1;34m(self, v, skip_invalid, _validate)\u001b[0m\n\u001b[0;32m   2444\u001b[0m \u001b[1;33m\u001b[0m\u001b[0m\n\u001b[0;32m   2445\u001b[0m         \u001b[1;32melif\u001b[0m \u001b[0misinstance\u001b[0m\u001b[1;33m(\u001b[0m\u001b[0mv\u001b[0m\u001b[1;33m,\u001b[0m \u001b[0mdict\u001b[0m\u001b[1;33m)\u001b[0m\u001b[1;33m:\u001b[0m\u001b[1;33m\u001b[0m\u001b[1;33m\u001b[0m\u001b[0m\n\u001b[1;32m-> 2446\u001b[1;33m             \u001b[0mv\u001b[0m \u001b[1;33m=\u001b[0m \u001b[0mself\u001b[0m\u001b[1;33m.\u001b[0m\u001b[0mdata_class\u001b[0m\u001b[1;33m(\u001b[0m\u001b[0mv\u001b[0m\u001b[1;33m,\u001b[0m \u001b[0mskip_invalid\u001b[0m\u001b[1;33m=\u001b[0m\u001b[0mskip_invalid\u001b[0m\u001b[1;33m,\u001b[0m \u001b[0m_validate\u001b[0m\u001b[1;33m=\u001b[0m\u001b[0m_validate\u001b[0m\u001b[1;33m)\u001b[0m\u001b[1;33m\u001b[0m\u001b[1;33m\u001b[0m\u001b[0m\n\u001b[0m\u001b[0;32m   2447\u001b[0m \u001b[1;33m\u001b[0m\u001b[0m\n\u001b[0;32m   2448\u001b[0m         \u001b[1;32melif\u001b[0m \u001b[0misinstance\u001b[0m\u001b[1;33m(\u001b[0m\u001b[0mv\u001b[0m\u001b[1;33m,\u001b[0m \u001b[0mself\u001b[0m\u001b[1;33m.\u001b[0m\u001b[0mdata_class\u001b[0m\u001b[1;33m)\u001b[0m\u001b[1;33m:\u001b[0m\u001b[1;33m\u001b[0m\u001b[1;33m\u001b[0m\u001b[0m\n",
      "\u001b[1;32m~\\Anaconda3\\envs\\tensorflow\\lib\\site-packages\\plotly\\graph_objs\\scatter3d\\_marker.py\u001b[0m in \u001b[0;36m__init__\u001b[1;34m(self, arg, autocolorscale, cauto, cmax, cmid, cmin, color, coloraxis, colorbar, colorscale, colorsrc, line, opacity, reversescale, showscale, size, sizemin, sizemode, sizeref, sizesrc, symbol, symbolsrc, **kwargs)\u001b[0m\n\u001b[0;32m   1258\u001b[0m         \u001b[0m_v\u001b[0m \u001b[1;33m=\u001b[0m \u001b[0msymbol\u001b[0m \u001b[1;32mif\u001b[0m \u001b[0msymbol\u001b[0m \u001b[1;32mis\u001b[0m \u001b[1;32mnot\u001b[0m \u001b[1;32mNone\u001b[0m \u001b[1;32melse\u001b[0m \u001b[0m_v\u001b[0m\u001b[1;33m\u001b[0m\u001b[1;33m\u001b[0m\u001b[0m\n\u001b[0;32m   1259\u001b[0m         \u001b[1;32mif\u001b[0m \u001b[0m_v\u001b[0m \u001b[1;32mis\u001b[0m \u001b[1;32mnot\u001b[0m \u001b[1;32mNone\u001b[0m\u001b[1;33m:\u001b[0m\u001b[1;33m\u001b[0m\u001b[1;33m\u001b[0m\u001b[0m\n\u001b[1;32m-> 1260\u001b[1;33m             \u001b[0mself\u001b[0m\u001b[1;33m[\u001b[0m\u001b[1;34m\"symbol\"\u001b[0m\u001b[1;33m]\u001b[0m \u001b[1;33m=\u001b[0m \u001b[0m_v\u001b[0m\u001b[1;33m\u001b[0m\u001b[1;33m\u001b[0m\u001b[0m\n\u001b[0m\u001b[0;32m   1261\u001b[0m         \u001b[0m_v\u001b[0m \u001b[1;33m=\u001b[0m \u001b[0marg\u001b[0m\u001b[1;33m.\u001b[0m\u001b[0mpop\u001b[0m\u001b[1;33m(\u001b[0m\u001b[1;34m\"symbolsrc\"\u001b[0m\u001b[1;33m,\u001b[0m \u001b[1;32mNone\u001b[0m\u001b[1;33m)\u001b[0m\u001b[1;33m\u001b[0m\u001b[1;33m\u001b[0m\u001b[0m\n\u001b[0;32m   1262\u001b[0m         \u001b[0m_v\u001b[0m \u001b[1;33m=\u001b[0m \u001b[0msymbolsrc\u001b[0m \u001b[1;32mif\u001b[0m \u001b[0msymbolsrc\u001b[0m \u001b[1;32mis\u001b[0m \u001b[1;32mnot\u001b[0m \u001b[1;32mNone\u001b[0m \u001b[1;32melse\u001b[0m \u001b[0m_v\u001b[0m\u001b[1;33m\u001b[0m\u001b[1;33m\u001b[0m\u001b[0m\n",
      "\u001b[1;32m~\\Anaconda3\\envs\\tensorflow\\lib\\site-packages\\plotly\\basedatatypes.py\u001b[0m in \u001b[0;36m__setitem__\u001b[1;34m(self, prop, value)\u001b[0m\n\u001b[0;32m   4017\u001b[0m                 \u001b[1;31m# ### Handle simple property ###\u001b[0m\u001b[1;33m\u001b[0m\u001b[1;33m\u001b[0m\u001b[1;33m\u001b[0m\u001b[0m\n\u001b[0;32m   4018\u001b[0m                 \u001b[1;32melse\u001b[0m\u001b[1;33m:\u001b[0m\u001b[1;33m\u001b[0m\u001b[1;33m\u001b[0m\u001b[0m\n\u001b[1;32m-> 4019\u001b[1;33m                     \u001b[0mself\u001b[0m\u001b[1;33m.\u001b[0m\u001b[0m_set_prop\u001b[0m\u001b[1;33m(\u001b[0m\u001b[0mprop\u001b[0m\u001b[1;33m,\u001b[0m \u001b[0mvalue\u001b[0m\u001b[1;33m)\u001b[0m\u001b[1;33m\u001b[0m\u001b[1;33m\u001b[0m\u001b[0m\n\u001b[0m\u001b[0;32m   4020\u001b[0m             \u001b[1;32melse\u001b[0m\u001b[1;33m:\u001b[0m\u001b[1;33m\u001b[0m\u001b[1;33m\u001b[0m\u001b[0m\n\u001b[0;32m   4021\u001b[0m                 \u001b[1;31m# Make sure properties dict is initialized\u001b[0m\u001b[1;33m\u001b[0m\u001b[1;33m\u001b[0m\u001b[1;33m\u001b[0m\u001b[0m\n",
      "\u001b[1;32m~\\Anaconda3\\envs\\tensorflow\\lib\\site-packages\\plotly\\basedatatypes.py\u001b[0m in \u001b[0;36m_set_prop\u001b[1;34m(self, prop, val)\u001b[0m\n\u001b[0;32m   4335\u001b[0m                 \u001b[1;32mreturn\u001b[0m\u001b[1;33m\u001b[0m\u001b[1;33m\u001b[0m\u001b[0m\n\u001b[0;32m   4336\u001b[0m             \u001b[1;32melse\u001b[0m\u001b[1;33m:\u001b[0m\u001b[1;33m\u001b[0m\u001b[1;33m\u001b[0m\u001b[0m\n\u001b[1;32m-> 4337\u001b[1;33m                 \u001b[1;32mraise\u001b[0m \u001b[0merr\u001b[0m\u001b[1;33m\u001b[0m\u001b[1;33m\u001b[0m\u001b[0m\n\u001b[0m\u001b[0;32m   4338\u001b[0m \u001b[1;33m\u001b[0m\u001b[0m\n\u001b[0;32m   4339\u001b[0m         \u001b[1;31m# val is None\u001b[0m\u001b[1;33m\u001b[0m\u001b[1;33m\u001b[0m\u001b[1;33m\u001b[0m\u001b[0m\n",
      "\u001b[1;32m~\\Anaconda3\\envs\\tensorflow\\lib\\site-packages\\plotly\\basedatatypes.py\u001b[0m in \u001b[0;36m_set_prop\u001b[1;34m(self, prop, val)\u001b[0m\n\u001b[0;32m   4330\u001b[0m \u001b[1;33m\u001b[0m\u001b[0m\n\u001b[0;32m   4331\u001b[0m         \u001b[1;32mtry\u001b[0m\u001b[1;33m:\u001b[0m\u001b[1;33m\u001b[0m\u001b[1;33m\u001b[0m\u001b[0m\n\u001b[1;32m-> 4332\u001b[1;33m             \u001b[0mval\u001b[0m \u001b[1;33m=\u001b[0m \u001b[0mvalidator\u001b[0m\u001b[1;33m.\u001b[0m\u001b[0mvalidate_coerce\u001b[0m\u001b[1;33m(\u001b[0m\u001b[0mval\u001b[0m\u001b[1;33m)\u001b[0m\u001b[1;33m\u001b[0m\u001b[1;33m\u001b[0m\u001b[0m\n\u001b[0m\u001b[0;32m   4333\u001b[0m         \u001b[1;32mexcept\u001b[0m \u001b[0mValueError\u001b[0m \u001b[1;32mas\u001b[0m \u001b[0merr\u001b[0m\u001b[1;33m:\u001b[0m\u001b[1;33m\u001b[0m\u001b[1;33m\u001b[0m\u001b[0m\n\u001b[0;32m   4334\u001b[0m             \u001b[1;32mif\u001b[0m \u001b[0mself\u001b[0m\u001b[1;33m.\u001b[0m\u001b[0m_skip_invalid\u001b[0m\u001b[1;33m:\u001b[0m\u001b[1;33m\u001b[0m\u001b[1;33m\u001b[0m\u001b[0m\n",
      "\u001b[1;32m~\\Anaconda3\\envs\\tensorflow\\lib\\site-packages\\_plotly_utils\\basevalidators.py\u001b[0m in \u001b[0;36mvalidate_coerce\u001b[1;34m(self, v)\u001b[0m\n\u001b[0;32m    585\u001b[0m             \u001b[0minvalid_els\u001b[0m \u001b[1;33m=\u001b[0m \u001b[1;33m[\u001b[0m\u001b[0me\u001b[0m \u001b[1;32mfor\u001b[0m \u001b[0me\u001b[0m \u001b[1;32min\u001b[0m \u001b[0mv_replaced\u001b[0m \u001b[1;32mif\u001b[0m \u001b[1;33m(\u001b[0m\u001b[1;32mnot\u001b[0m \u001b[0mself\u001b[0m\u001b[1;33m.\u001b[0m\u001b[0min_values\u001b[0m\u001b[1;33m(\u001b[0m\u001b[0me\u001b[0m\u001b[1;33m)\u001b[0m\u001b[1;33m)\u001b[0m\u001b[1;33m]\u001b[0m\u001b[1;33m\u001b[0m\u001b[1;33m\u001b[0m\u001b[0m\n\u001b[0;32m    586\u001b[0m             \u001b[1;32mif\u001b[0m \u001b[0minvalid_els\u001b[0m\u001b[1;33m:\u001b[0m\u001b[1;33m\u001b[0m\u001b[1;33m\u001b[0m\u001b[0m\n\u001b[1;32m--> 587\u001b[1;33m                 \u001b[0mself\u001b[0m\u001b[1;33m.\u001b[0m\u001b[0mraise_invalid_elements\u001b[0m\u001b[1;33m(\u001b[0m\u001b[0minvalid_els\u001b[0m\u001b[1;33m[\u001b[0m\u001b[1;33m:\u001b[0m\u001b[1;36m10\u001b[0m\u001b[1;33m]\u001b[0m\u001b[1;33m)\u001b[0m\u001b[1;33m\u001b[0m\u001b[1;33m\u001b[0m\u001b[0m\n\u001b[0m\u001b[0;32m    588\u001b[0m \u001b[1;33m\u001b[0m\u001b[0m\n\u001b[0;32m    589\u001b[0m             \u001b[1;32mif\u001b[0m \u001b[0mis_homogeneous_array\u001b[0m\u001b[1;33m(\u001b[0m\u001b[0mv\u001b[0m\u001b[1;33m)\u001b[0m\u001b[1;33m:\u001b[0m\u001b[1;33m\u001b[0m\u001b[1;33m\u001b[0m\u001b[0m\n",
      "\u001b[1;32m~\\Anaconda3\\envs\\tensorflow\\lib\\site-packages\\_plotly_utils\\basevalidators.py\u001b[0m in \u001b[0;36mraise_invalid_elements\u001b[1;34m(self, invalid_els)\u001b[0m\n\u001b[0;32m    298\u001b[0m                     \u001b[0mpname\u001b[0m\u001b[1;33m=\u001b[0m\u001b[0mself\u001b[0m\u001b[1;33m.\u001b[0m\u001b[0mparent_name\u001b[0m\u001b[1;33m,\u001b[0m\u001b[1;33m\u001b[0m\u001b[1;33m\u001b[0m\u001b[0m\n\u001b[0;32m    299\u001b[0m                     \u001b[0minvalid\u001b[0m\u001b[1;33m=\u001b[0m\u001b[0minvalid_els\u001b[0m\u001b[1;33m[\u001b[0m\u001b[1;33m:\u001b[0m\u001b[1;36m10\u001b[0m\u001b[1;33m]\u001b[0m\u001b[1;33m,\u001b[0m\u001b[1;33m\u001b[0m\u001b[1;33m\u001b[0m\u001b[0m\n\u001b[1;32m--> 300\u001b[1;33m                     \u001b[0mvalid_clr_desc\u001b[0m\u001b[1;33m=\u001b[0m\u001b[0mself\u001b[0m\u001b[1;33m.\u001b[0m\u001b[0mdescription\u001b[0m\u001b[1;33m(\u001b[0m\u001b[1;33m)\u001b[0m\u001b[1;33m,\u001b[0m\u001b[1;33m\u001b[0m\u001b[1;33m\u001b[0m\u001b[0m\n\u001b[0m\u001b[0;32m    301\u001b[0m                 )\n\u001b[0;32m    302\u001b[0m             )\n",
      "\u001b[1;31mValueError\u001b[0m: \n    Invalid element(s) received for the 'symbol' property of scatter3d.marker\n        Invalid elements include: [0.5, 0.5, 0.5, 0.5, 0.5, 0.5, 0.5, 0.5, 0.5, 0.5]\n\n    The 'symbol' property is an enumeration that may be specified as:\n      - One of the following enumeration values:\n            ['circle', 'circle-open', 'square', 'square-open',\n            'diamond', 'diamond-open', 'cross', 'x']\n      - A tuple, list, or one-dimensional numpy array of the above"
     ]
    }
   ],
   "source": [
    "# 3차원 , 성별(네모, 세모), 색깔 (클러스터링 레이블)\n",
    "\n",
    "#markercolor = X['GENDER']\n",
    "\n",
    "#p = X\n",
    "#sns.pairplot(p)\n",
    "\n",
    "markershape = year_df_temp['GENDER'].replace(1,\"square\").replace(2,\"circle\")\n",
    "\n",
    "#Make Plotly figure\n",
    "fig1 = go.Scatter3d(x=year_df_temp['LN_AMT'],\n",
    "                    y=year_df_temp['BTH_YR'],\n",
    "                    z=year_df_temp['SCTR_CD'],\n",
    "                    marker=dict(symbol=markershape,\n",
    "                                opacity=0.9,\n",
    "                                reversescale=True,\n",
    "                                colorscale='Blues'),\n",
    "                    line=dict (width=0.02),\n",
    "                    mode='markers')\n",
    "\n",
    "#Make Plot.ly Layout\n",
    "mylayout = go.Layout(scene=dict(xaxis=dict( title='LN_AMT'),\n",
    "                                yaxis=dict( title='BTH_YR'),\n",
    "                                zaxis=dict(title='SCTR_CD')),)\n",
    "\n",
    "#Plot and save html\n",
    "plotly.offline.plot({\"data\": [fig1],\n",
    "                     \"layout\": mylayout},\n",
    "                     auto_open=True,\n",
    "                     filename=(\"정규화 전 Data (4차원).html\"))"
   ]
  },
  {
   "cell_type": "code",
   "execution_count": null,
   "metadata": {},
   "outputs": [],
   "source": [
    "# 3차원 , 성별(네모, 세모), 색깔 (클러스터링 레이블)\n",
    "\n",
    "markercolor = X_train['cluster']\n",
    "markershape = X_train['GENDER'].replace(0.5,\"square\").replace(1,\"circle\")\n",
    "\n",
    "#Make Plotly figure\n",
    "fig1 = go.Scatter3d(x=X_train['LN_AMT'],\n",
    "                    y=X_train['SCTR_CD'],\n",
    "                    z=X_train['BTH_YR'],\n",
    "                    marker=dict(symbol=markershape,\n",
    "                                opacity=0.9,\n",
    "                                color=markercolor,\n",
    "                                reversescale=True,\n",
    "                                colorscale='Blues'),\n",
    "                    line=dict (width=0.02),\n",
    "                    mode='markers')\n",
    "\n",
    "#Make Plot.ly Layout\n",
    "mylayout = go.Layout(scene=dict(xaxis=dict( title='LN_AMT'),\n",
    "                                yaxis=dict( title='BTH_YR'),\n",
    "                                zaxis=dict(title='SCTR_CD')),)\n",
    "\n",
    "#Plot and save html\n",
    "plotly.offline.plot({\"data\": [fig1],\n",
    "                     \"layout\": mylayout},\n",
    "                     auto_open=True,\n",
    "                     filename=(\"클러스터링 후 5DPlot.html\"))"
   ]
  }
 ],
 "metadata": {
  "kernelspec": {
   "display_name": "Python 3",
   "language": "python",
   "name": "python3"
  }
 },
 "nbformat": 4,
 "nbformat_minor": 4
}
