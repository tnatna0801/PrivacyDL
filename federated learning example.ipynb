{
 "cells": [
  {
   "cell_type": "code",
   "execution_count": 1,
   "metadata": {},
   "outputs": [],
   "source": [
    "from util import fetch_minibatch\n",
    "import numpy as np\n",
    "import tensorflow as tf\n",
    "from time import time\n",
    "import matplotlib.pyplot as plt\n",
    "plt.style.use(\"ggplot\")\n",
    "%matplotlib inline"
   ]
  },
  {
   "cell_type": "code",
   "execution_count": 2,
   "metadata": {},
   "outputs": [],
   "source": [
    "class Node(object):\n",
    "    def __init__(self, sess, n_features, n_classes):\n",
    "        self.sess = sess\n",
    "\n",
    "        self.X_ = tf.placeholder(tf.float32, shape=[None, n_features])\n",
    "        self.y_ = tf.placeholder(tf.float32, shape=[None, n_classes])\n",
    "        self.w1 = tf.Variable(tf.random_uniform([n_features, n_classes]), name=\"w1\")\n",
    "\n",
    "        z1 = tf.matmul(self.X_, self.w1)\n",
    "        probs = tf.nn.softmax(z1)\n",
    "\n",
    "        self.loss = tf.losses.log_loss(labels=self.y_, predictions=probs)\n",
    "        self.op = tf.train.AdamOptimizer(0.01).minimize(self.loss)\n",
    "        \n",
    "        self.grad = tf.gradients(self.loss, self.w1)\n",
    "        \n",
    "        predictions = tf.argmax(probs, 1)\n",
    "        correct_prediction = tf.equal(predictions, tf.argmax(self.y_, 1))\n",
    "        self.accuracy = tf.reduce_mean(tf.cast(correct_prediction, \"float\"))\n",
    "        \n",
    "    def fetch_grad(self, w, X, y):\n",
    "        \"\"\"\n",
    "        given weight w_i and data {X_i, y_i}, compute gradient.\n",
    "        \"\"\"\n",
    "        self.w1.load(w, self.sess)\n",
    "        return self.sess.run(self.grad, feed_dict={self.X_:X, self.y_:y})[0]\n",
    "        \n",
    "    def fit(self, X, y, epochs):\n",
    "        for epoch in range(epochs):\n",
    "            _ = self.sess.run(self.op, feed_dict={self.X_:X, self.y_:y})\n",
    "            \n",
    "    def score(self, X, y):\n",
    "        return self.sess.run(self.accuracy, feed_dict={self.X_:X, self.y_:y})\n",
    "\n",
    "    def fetch_weights(self):\n",
    "        return self.sess.run(self.w1)\n",
    "    \n",
    "    def load(self, w):\n",
    "        self.w1.load(w, self.sess)"
   ]
  },
  {
   "cell_type": "code",
   "execution_count": 3,
   "metadata": {},
   "outputs": [
    {
     "name": "stdout",
     "output_type": "stream",
     "text": [
      "WARNING:tensorflow:From /home/pmcsh04/venv/lib/python3.7/site-packages/tensorflow/python/compat/v2_compat.py:96: disable_resource_variables (from tensorflow.python.ops.variable_scope) is deprecated and will be removed in a future version.\n",
      "Instructions for updating:\n",
      "non-resource variables are not supported in the long term\n"
     ]
    }
   ],
   "source": [
    "import tensorflow.compat.v1 as tf\n",
    "tf.disable_v2_behavior()"
   ]
  },
  {
   "cell_type": "code",
   "execution_count": 4,
   "metadata": {},
   "outputs": [],
   "source": [
    "from sklearn import datasets\n",
    "iris = datasets.load_iris()\n",
    "X_full = iris.data\n",
    "y_full = np.eye(3)[iris.target]\n",
    "n_features = X_full[0].shape[0]\n",
    "n_classes = y_full[0].shape[0]"
   ]
  },
  {
   "cell_type": "code",
   "execution_count": 5,
   "metadata": {},
   "outputs": [
    {
     "name": "stdout",
     "output_type": "stream",
     "text": [
      "untrained accuracy:  0.33333334\n",
      "accuracy, using updated weights 0.773 \n"
     ]
    }
   ],
   "source": [
    "server_batch_size = 30\n",
    "\n",
    "X_test, y_test = fetch_minibatch(X_full, y_full, server_batch_size)\n",
    "\n",
    "with tf.Session() as sess:    \n",
    "    Master = Node(sess, n_features, n_classes)\n",
    "    sess.run(tf.global_variables_initializer())\n",
    "        \n",
    "    print(\"untrained accuracy: \", Master.score(X_full, y_full))\n",
    "    \n",
    "    n_epochs = 20\n",
    "    X_server, y_server = fetch_minibatch(X_full, y_full, server_batch_size)\n",
    "    Master.fit(X_server, y_server, n_epochs)\n",
    "    \n",
    "    print(\"accuracy, using updated weights {0:.3f} \".format(Master.score(X_full, y_full)))\n",
    "    \n",
    "    server_w1 = Master.fetch_weights()"
   ]
  },
  {
   "cell_type": "code",
   "execution_count": 6,
   "metadata": {},
   "outputs": [],
   "source": [
    "original_server_w1 = server_w1"
   ]
  },
  {
   "cell_type": "code",
   "execution_count": 7,
   "metadata": {},
   "outputs": [
    {
     "name": "stdout",
     "output_type": "stream",
     "text": [
      "WARNING:tensorflow:From <ipython-input-2-5f5339c07be7>:25: Variable.load (from tensorflow.python.ops.variables) is deprecated and will be removed in a future version.\n",
      "Instructions for updating:\n",
      "Prefer Variable.assign which has equivalent behavior in 2.X.\n",
      "round 0 execution time: 1.4655373096466064 accuracy: 0.8533333539962769\n",
      "round 1 execution time: 1.7329182624816895 accuracy: 0.9599999785423279\n",
      "round 2 execution time: 1.8065688610076904 accuracy: 0.9599999785423279\n",
      "round 3 execution time: 1.2763216495513916 accuracy: 0.9666666388511658\n",
      "round 4 execution time: 1.301342248916626 accuracy: 0.9666666388511658\n",
      "round 5 execution time: 1.4686737060546875 accuracy: 0.9666666388511658\n",
      "round 6 execution time: 1.4344935417175293 accuracy: 0.9666666388511658\n",
      "round 7 execution time: 1.5069093704223633 accuracy: 0.95333331823349\n",
      "round 8 execution time: 1.5640652179718018 accuracy: 0.9666666388511658\n",
      "round 9 execution time: 1.4668967723846436 accuracy: 0.9599999785423279\n",
      "completed\n"
     ]
    },
    {
     "data": {
      "text/plain": [
       "[<matplotlib.lines.Line2D at 0x7ff2282acbd0>]"
      ]
     },
     "execution_count": 7,
     "metadata": {},
     "output_type": "execute_result"
    },
    {
     "data": {
      "image/png": "[encoded data removed]",
      "text/plain": [
       "<Figure size 432x288 with 1 Axes>"
      ]
     },
     "metadata": {
      "needs_background": "light"
     },
     "output_type": "display_data"
    }
   ],
   "source": [
    "learning_rate = .1\n",
    "n_epochs = 500\n",
    "n_clients = 5\n",
    "client_batch_size = 5\n",
    "n_rounds = 10\n",
    "ls_accuracy = []\n",
    "\n",
    "with tf.Session() as sess:\n",
    "    Worker = Node(sess, n_features, n_classes)\n",
    "    sess.run(tf.global_variables_initializer())\n",
    "    \n",
    "    for r in range(n_rounds):\n",
    "        s = time()\n",
    "        \n",
    "        # each round needs a new average client weights\n",
    "        ls_client_w1 = []\n",
    "        \n",
    "        for client in range(n_clients):\n",
    "\n",
    "            # each client receives the same server weight\n",
    "            client_w1 = server_w1\n",
    "\n",
    "            # each client has their own minibatch\n",
    "            X_client, y_client = fetch_minibatch(X_full, y_full, client_batch_size)\n",
    "            \n",
    "            # calculate term b gradient using (1) server weights and (2) client data\n",
    "            term_b = Worker.fetch_grad(server_w1, X_client, y_client)\n",
    "            \n",
    "            # compute term c gradient using (1) server weights and (2) server data\n",
    "            term_c = Worker.fetch_grad(server_w1, X_server, y_server)\n",
    "\n",
    "            # client parameter updates\n",
    "            for n in range(n_epochs):\n",
    "                # compute term a gradient using (1) client weights and (2) client data\n",
    "                term_a = Worker.fetch_grad(client_w1, X_client, y_client)\n",
    "\n",
    "                # update client weights\n",
    "                client_w1 = client_w1 - learning_rate * (term_a - term_b + term_c)\n",
    "\n",
    "            # track weights for each client\n",
    "            ls_client_w1.append(client_w1)\n",
    "        \n",
    "        # after all clients are accounted for, update server weights each round\n",
    "        server_w1 = np.mean(ls_client_w1, axis=0)\n",
    "        Worker.load(server_w1)\n",
    "        acc = Worker.score(X_full, y_full)\n",
    "        print(\"round {} execution time: {} accuracy: {}\".format(r, time() - s, acc))\n",
    "        ls_accuracy.append(acc)\n",
    "    \n",
    "print(\"completed\")\n",
    "plt.plot(ls_accuracy)"
   ]
  },
  {
   "cell_type": "code",
   "execution_count": 11,
   "metadata": {
    "scrolled": true
   },
   "outputs": [
    {
     "name": "stdout",
     "output_type": "stream",
     "text": [
      "untrained accuracy:  0.8333333\n",
      "accuracy, using updated weights:  1.0\n"
     ]
    }
   ],
   "source": [
    "with tf.Session() as sess:    \n",
    "    Master = Node(sess, n_features, n_classes)\n",
    "    sess.run(tf.global_variables_initializer())\n",
    "    \n",
    "    Master.load(original_server_w1)\n",
    "    print(\"untrained accuracy: \", Master.score(X_test, y_test))\n",
    "    Master.load(server_w1)  # use average weights from clients\n",
    "    print(\"accuracy, using updated weights: \", Master.score(X_test, y_test))"
   ]
  },
  {
   "cell_type": "code",
   "execution_count": null,
   "metadata": {},
   "outputs": [],
   "source": []
  }
 ],
 "metadata": {
  "kernelspec": {
   "display_name": "Python 3",
   "language": "python",
   "name": "python3"
  },
  "language_info": {
   "codemirror_mode": {
    "name": "ipython",
    "version": 3
   },
   "file_extension": ".py",
   "mimetype": "text/x-python",
   "name": "python",
   "nbconvert_exporter": "python",
   "pygments_lexer": "ipython3",
   "version": "3.7.4"
  }
 },
 "nbformat": 4,
 "nbformat_minor": 4
}
